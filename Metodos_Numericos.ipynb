{
 "cells": [
  {
   "cell_type": "code",
   "execution_count": 2,
   "metadata": {},
   "outputs": [],
   "source": [
    "# Importamos los módulos necesarios\n",
    "%matplotlib inline\n",
    "\n",
    "import matplotlib.pyplot as plt\n",
    "import numpy as np\n",
    "import sympy\n",
    "from scipy import integrate\n",
    "\n",
    "# Para imprimir con notación matemática\n",
    "sympy.init_printing(use_latex='mathjax')"
   ]
  },
  {
   "cell_type": "code",
   "execution_count": 4,
   "metadata": {},
   "outputs": [
    {
     "data": {
      "text/latex": [
       "$$\\frac{d}{d x} y{\\left (x \\right )} = - 3 x^{2} y{\\left (x \\right )} + 6 x^{2}$$"
      ],
      "text/plain": [
       "d               2           2\n",
       "──(y(x)) = - 3⋅x ⋅y(x) + 6⋅x \n",
       "dx                           "
      ]
     },
     "execution_count": 4,
     "metadata": {},
     "output_type": "execute_result"
    }
   ],
   "source": [
    "# Resolviendo la ecuación diferencial\n",
    "# Definimos las incógnitas\n",
    "x = sympy.Symbol('x')\n",
    "y = sympy.Function('y')\n",
    "\n",
    "# Expresamos la ecuación\n",
    "f = 6*x**2 - 3*x**2*(y(x))\n",
    "sympy.Eq(y(x).diff(x), f)"
   ]
  },
  {
   "cell_type": "code",
   "execution_count": 5,
   "metadata": {},
   "outputs": [
    {
     "data": {
      "text/latex": [
       "$$y{\\left (x \\right )} = C_{1} e^{- x^{3}} + 2$$"
      ],
      "text/plain": [
       "             3    \n",
       "           -x     \n",
       "y(x) = C₁⋅ℯ    + 2"
      ]
     },
     "execution_count": 5,
     "metadata": {},
     "output_type": "execute_result"
    }
   ],
   "source": [
    "# Resolviendo la ecuación\n",
    "sympy.dsolve(y(x).diff(x) - f)"
   ]
  },
  {
   "cell_type": "markdown",
   "metadata": {},
   "source": [
    "# Ahora, para resolver la siguiente ecuación diferencial:\n",
    "\\begin{equation}\n",
    "\\frac{dy}{dx} = \\frac{1}{2} (y^2 -1)\n",
    "\\end{equation}\n",
    "que cumpla con la condición inicial $y(0) = 2$, debemos realizar el siguiente procedimiento:"
   ]
  },
  {
   "cell_type": "code",
   "execution_count": 15,
   "metadata": {},
   "outputs": [
    {
     "data": {
      "text/latex": [
       "$$y{\\left (x \\right )} = \\frac{1}{\\tanh{\\left (C_{1} - \\frac{x}{2} \\right )}}$$"
      ],
      "text/plain": [
       "            1      \n",
       "y(x) = ────────────\n",
       "           ⎛     x⎞\n",
       "       tanh⎜C₁ - ─⎟\n",
       "           ⎝     2⎠"
      ]
     },
     "execution_count": 15,
     "metadata": {},
     "output_type": "execute_result"
    }
   ],
   "source": [
    "# Definimos la ecuación \n",
    "eq = (y(x)**2 - 1)/2\n",
    "\n",
    "# La condición inicial\n",
    "ics = {y(0): 2}\n",
    "\n",
    "# Resolviendo la ecuación\n",
    "edo_sol = sympy.dsolve(y(x).diff(x) - eq)\n",
    "edo_sol"
   ]
  },
  {
   "cell_type": "markdown",
   "metadata": {},
   "source": [
    "Esta es la solución general de la ecuación diferencial, ahora reemplazamos los valores de la Condición Inicial:"
   ]
  },
  {
   "cell_type": "code",
   "execution_count": 16,
   "metadata": {},
   "outputs": [
    {
     "data": {
      "text/latex": [
       "$$2 = \\frac{1}{\\tanh{\\left (C_{1} \\right )}}$$"
      ],
      "text/plain": [
       "       1    \n",
       "2 = ────────\n",
       "    tanh(C₁)"
      ]
     },
     "execution_count": 16,
     "metadata": {},
     "output_type": "execute_result"
    }
   ],
   "source": [
    "C_eq = sympy.Eq(edo_sol.lhs.subs(x, 0).subs(ics), edo_sol.rhs.subs(x, 0))\n",
    "C_eq"
   ]
  },
  {
   "cell_type": "markdown",
   "metadata": {},
   "source": [
    "y por último despejamos el valor de la constante de interación C, resolviendo la ecuación:"
   ]
  },
  {
   "cell_type": "code",
   "execution_count": 17,
   "metadata": {},
   "outputs": [
    {
     "data": {
      "text/latex": [
       "$$\\left [ \\log{\\left (\\sqrt{3} \\right )} + i \\pi, \\quad \\log{\\left (\\sqrt{3} \\right )}\\right ]$$"
      ],
      "text/plain": [
       "[log(√3) + ⅈ⋅π, log(√3)]"
      ]
     },
     "execution_count": 17,
     "metadata": {},
     "output_type": "execute_result"
    }
   ],
   "source": [
    "sympy.solve(C_eq)"
   ]
  },
  {
   "cell_type": "markdown",
   "metadata": {},
   "source": [
    " El valor de la constante de integración C es 3.\n",
    " Por lo tanto nuestra solución para el \\textbf{problema de valor inicial} es:\n",
    "\\begin{equation}\n",
    "y(x) = \\frac{3+e^x}{3-e^x}\n",
    "\\end{equation}"
   ]
  },
  {
   "cell_type": "markdown",
   "metadata": {},
   "source": [
    "# Para los casos en que NO exista una solución analítica;\n",
    "pero si una solución aproximada por una Serie de Potencias;\n",
    "sympy.dsolve nos va a devolver la serie como solución. Veámos el caso de la siguiente ecuación diferencial:\n",
    "\\begin{equation}\n",
    "\\frac{dy}{dx} = x^2 + y^2 - 1\n",
    "\\end{equation}"
   ]
  },
  {
   "cell_type": "code",
   "execution_count": 19,
   "metadata": {},
   "outputs": [
    {
     "data": {
      "text/latex": [
       "$$y{\\left (x \\right )} = \\frac{x^{3}}{3} \\left(C_{1} \\left(3 C_{1} - 1\\right) + 1\\right) + \\frac{x^{5}}{60} \\left(C_{1} \\left(4 C_{1} - 7\\right) + 10 C_{1} - 6\\right) + C_{1} + C_{1} x + C_{1} x^{2} + \\frac{C_{1} x^{4}}{12} + \\mathcal{O}\\left(x^{6}\\right)$$"
      ],
      "text/plain": [
       "        3                        5                                            \n",
       "       x ⋅(C₁⋅(3⋅C₁ - 1) + 1)   x ⋅(C₁⋅(4⋅C₁ - 7) + 10⋅C₁ - 6)                \n",
       "y(x) = ────────────────────── + ────────────────────────────── + C₁ + C₁⋅x + C\n",
       "                 3                            60                              \n",
       "\n",
       "           4        \n",
       "   2   C₁⋅x     ⎛ 6⎞\n",
       "₁⋅x  + ───── + O⎝x ⎠\n",
       "         12         "
      ]
     },
     "execution_count": 19,
     "metadata": {},
     "output_type": "execute_result"
    }
   ],
   "source": [
    "# Solución con Series de Potencias\n",
    "f = y(x)**2 + x**2 - 1\n",
    "sympy.dsolve(y(x).diff(x) - f)"
   ]
  },
  {
   "cell_type": "markdown",
   "metadata": {},
   "source": [
    "# Ejemplo: Resolver la siguiente Ecuación Diferencial Ordinaria:\n",
    "\\begin{equation}\n",
    "\\frac{dy}{dx} = y + x - x^2 + 1\n",
    "\\end{equation}\n",
    "con la condición inicial $y(0) = 1$"
   ]
  },
  {
   "cell_type": "code",
   "execution_count": 22,
   "metadata": {},
   "outputs": [
    {
     "name": "stdout",
     "output_type": "stream",
     "text": [
      "d             2               \n",
      "──(y(x)) = - x  + x + y(x) + 1\n",
      "dx                            \n"
     ]
    }
   ],
   "source": [
    "import sympy\n",
    "from sympy import*\n",
    "sympy.init_printing()\n",
    "\n",
    "\n",
    "x = Symbol('x')\n",
    "y = sympy.Function('y')\n",
    "\n",
    "# Definimos la ecuación\n",
    "f = y(x) + x - x**2 + 1\n",
    "\n",
    "# Condición inicial\n",
    "ics = {y(0): 1}\n",
    "\n",
    "# Checando la ecuación planteada\n",
    "eq=sympy.Eq(y(x).diff(x), f)\n",
    "pprint(eq)"
   ]
  },
  {
   "cell_type": "markdown",
   "metadata": {},
   "source": [
    "# Soluciones numéricas con Python"
   ]
  },
  {
   "cell_type": "code",
   "execution_count": null,
   "metadata": {},
   "outputs": [],
   "source": []
  }
 ],
 "metadata": {
  "kernelspec": {
   "display_name": "Python 3",
   "language": "python",
   "name": "python3"
  },
  "language_info": {
   "codemirror_mode": {
    "name": "ipython",
    "version": 3
   },
   "file_extension": ".py",
   "mimetype": "text/x-python",
   "name": "python",
   "nbconvert_exporter": "python",
   "pygments_lexer": "ipython3",
   "version": "3.6.5"
  }
 },
 "nbformat": 4,
 "nbformat_minor": 2
}
